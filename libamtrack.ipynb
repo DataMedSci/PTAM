{
 "cells": [
  {
   "cell_type": "markdown",
   "metadata": {},
   "source": [
    "# Definitions\n",
    "We have following variables:\n",
    " - $p = 1.77$ - exponent of range-energy relation\n",
    " - $\\alpha = 0.0022 \\ \\textrm{cm MeV}^{-p}$ - proportionality factor\n",
    " - $R_0 = \\alpha E^p$ - range of protons with kinetic energy $E$ (in cm)\n",
    " - $\\beta = 0.012 \\ cm^{-1}$ - slope parameter of fluence reduction relation\n",
    " - $\\gamma = 0.6$ - fraction of locally absorbed energy released in nonelastic nuclear interactions\n",
    " - $R = 2 \\mu m$ - regularization factor\n",
    " - $\\Phi_0$ - initial fluence (in 1/cm2)\n",
    " - $\\sigma = \\sqrt{\\sigma_{\\textrm{mono}}^2 + \\sigma_r^2}$ - describes Gaussian spread of range (in cm)\n",
    " - $\\sigma_{\\textrm{mono}} = 0.012 R_0^{0.935}$ - accounts for range straggling of monoenergetic protons (in cm)\n",
    " - $\\sigma_r = \\sigma_E \\alpha p E^{p-1}$ - accounts for initial energy spread translated into range spread (in cm)\n",
    " - $\\epsilon$ - fraction of primary fluence cuntributing to the tail of the energy spectrum\n",
    " - $\\zeta = (z - R_0) / \\sigma$ - helper variable\n",
    " - $\\xi = (z - R_0 - R) / \\sigma$ - helper variable\n",
    " - $\\Gamma$ - gamma function\n",
    " - $\\tilde D_\\nu(x,y) = e^{-x^2/4} D_{-\\nu}(x) - e^{-y^2/4} D_{-\\nu}(y)$ - helper function\n",
    " - $D_\\nu$ - parabolic cylinder function"
   ]
  },
  {
   "cell_type": "markdown",
   "metadata": {},
   "source": [
    "## libamtrack \n",
    "Libamtrack implements helper function following Bortfeld dose model:\n",
    "\n",
    "$$\n",
    "F(x, \\sigma, \\nu) = \\frac{1}{\\sqrt{2 \\pi} \\sigma} \\sigma^\\nu \\Gamma(\\nu) e^{-x^2/4}  D_{-\\nu}(x)\n",
    "$$ "
   ]
  },
  {
   "cell_type": "markdown",
   "metadata": {},
   "source": [
    "# Bortfeld dose model \n",
    "\n",
    "Based on equation (26) in http://sci-hub.tw/10.1118/1.598116\n",
    "\n",
    "$$\n",
    "D(z) = \\Phi_0 \\frac{e^{-\\zeta^2/4} \\sigma^{1/p} \\Gamma(1/p)}{\\sqrt{2 \\pi} \\rho p \\alpha^{1/p} (1 + \\beta R_0)} \n",
    "\\Big[ \\frac{1}{\\sigma} D_{-1/p}(\\zeta) + (\\frac{\\beta}{p} + \\gamma \\beta + \\frac{\\epsilon}{R_0}) D_{-1/p -1}(\\zeta) \\Big]\n",
    "$$\n",
    "\n",
    "Note that we follow Wilkens notation ($\\zeta = \\frac{z-R_0}{\\sigma}$) while Bortfeld defines $\\zeta = \\frac{R_0-z}{\\sigma}$. This leads to switched sign in calls to $D$ with respect to the original Bortfeld paper."
   ]
  },
  {
   "cell_type": "markdown",
   "metadata": {},
   "source": [
    "Assuming: $\\nu_1 = 1/p$ and $\\nu_2 = 1/p+1$ this can be rewritten into:\n",
    "\n",
    "$$\n",
    "D(z) = \\frac{\\Phi_0 }{\\rho p \\alpha^{\\nu_1} (1 + \\beta R_0)} \n",
    "\\Big[ \\frac{1}{\\sqrt{2 \\pi} \\sigma} \\sigma^{\\nu_1} \\Gamma(\\nu_1) e^{-\\zeta^2/4} D_{-\\nu_1}(\\zeta) + (\\frac{\\beta}{p} + \\gamma \\beta + \\frac{\\epsilon}{R_0}) \\frac{\\sigma}{\\sqrt{2 \\pi} \\sigma}\\sigma^{\\nu_1} \\frac{\\sigma^{\\nu_2}}{\\sigma^{\\nu_2}}\\Gamma(\\nu_1) \\frac{\\Gamma(\\nu_2)}{\\Gamma(\\nu_2)} e^{-\\zeta^2/4} D_{-\\nu_2}(\\zeta) \\Big]\n",
    "$$"
   ]
  },
  {
   "cell_type": "markdown",
   "metadata": {},
   "source": [
    "$$\n",
    "D(z) = \\frac{\\Phi_0 }{\\rho p \\alpha^{\\nu_1} (1 + \\beta R_0)} \n",
    "\\Big[ \\frac{1}{\\sqrt{2 \\pi} \\sigma} \\sigma^{\\nu_1} \\Gamma(\\nu_1) e^{-\\zeta^2/4} D_{-\\nu_1}(\\zeta) + \n",
    "(\\frac{\\beta}{p} + \\gamma \\beta + \\frac{\\epsilon}{R_0}) \\sigma \\frac{\\sigma^{\\nu_1}}{\\sigma^{\\nu_2}} \\frac{\\Gamma(\\nu_1)}{\\Gamma(\\nu_2)}\n",
    "\\frac{1}{\\sqrt{2 \\pi} \\sigma}\\sigma^{\\nu_2} \\Gamma(\\nu_2) e^{-\\zeta^2/4} D_{-\\nu_2}(\\zeta) \\Big]\n",
    "$$"
   ]
  },
  {
   "cell_type": "markdown",
   "metadata": {},
   "source": [
    "$$\n",
    "D(z) = \\frac{\\Phi_0 }{\\rho p \\alpha^{\\nu_1} (1 + \\beta R_0)} \n",
    "\\Big[ F(\\zeta, \\sigma, \\nu_1) + \n",
    "(\\frac{\\beta}{p} + \\gamma \\beta + \\frac{\\epsilon}{R_0}) \\sigma \\frac{\\sigma^{\\nu_1}}{\\sigma^{\\nu_2}} \\frac{\\Gamma(\\nu_1)}{\\Gamma(\\nu_2)}\n",
    "F(\\zeta, \\sigma, \\nu_2) \\Big]\n",
    "$$\n",
    "\n",
    "moreover $\\sigma \\frac{\\sigma^{\\nu_1}}{\\sigma^{\\nu_2}} = \\sigma \\frac{\\sigma^{1/p}}{\\sigma^{1+1/p}} = 1$ thus\n",
    "\n",
    "$$\n",
    "\\boxed{\n",
    "D(z) = \\frac{\\Phi_0 }{\\rho p \\alpha^{\\nu_1} (1 + \\beta R_0)} \n",
    "\\Big[ F(\\zeta, \\sigma, \\nu_1) + \n",
    "(\\frac{\\beta}{p} + \\gamma \\beta + \\frac{\\epsilon}{R_0}) \\frac{\\Gamma(\\nu_1)}{\\Gamma(\\nu_2)}\n",
    "F(\\zeta, \\sigma, \\nu_2) \\Big]\n",
    "}\n",
    "$$"
   ]
  },
  {
   "cell_type": "markdown",
   "metadata": {},
   "source": [
    "# Wilkens LET model\n",
    "\n",
    "$$\n",
    "L_d(z, E, \\sigma_E) = \\frac{1}{\\alpha^{1/p} p (2-p)} \\frac{\\sigma^{2/p} \\Gamma\\Big( \\frac{2}{p}\\Big) \\tilde D_{2/p}(\\xi, \\zeta) - 2 R \\Big( \\frac{R}{2}\\Big)^{2/p} e^{-(\\xi + \\zeta)^2/8}}{\\sigma^{1 + 1/p} \\Gamma\\Big( 1 + \\frac{1}{p}\\Big) \\tilde D_{1+1/p}(\\xi, \\zeta) - R \\Big( \\frac{R}{2}\\Big)^{1/p} e^{-(\\xi + \\zeta)^2/8}}\n",
    "$$\n",
    "\n",
    "and \n",
    "$$\n",
    "L_t(z, E, \\sigma_E) = \\frac{1}{\\sigma R \\alpha^{1/p}} \\frac{\\sigma^{1 + 1/p} \\Gamma\\Big( 1 + \\frac{1}{p}\\Big) \\tilde D_{1+1/p}(\\xi, \\zeta) - R \\Big( \\frac{R}{2}\\Big)^{1/p} e^{-(\\xi + \\zeta)^2/8}}{ e^{-\\zeta^2 / 4} D_{-1}(\\zeta) }\n",
    "$$"
   ]
  },
  {
   "cell_type": "markdown",
   "metadata": {},
   "source": [
    "Assuming: $\\nu_3 = 2/p$ and $\\nu_2 = 1/p+1$ this can be rewritten into:\n",
    "\n",
    "$$\n",
    "L_d(z, E, \\sigma_E) = \\frac{1}{\\alpha^{1/p} p (2-p)} \\frac{\\sigma^{\\nu_3} \\Gamma(\\nu_3)\n",
    "(e^{-\\xi^2/4} D_{-\\nu_3}(\\xi) - e^{-\\zeta^2/4} D_{-\\nu_3}(\\zeta))\n",
    "- 2 R \\Big( \\frac{R}{2}\\Big)^{\\nu_3} e^{-(\\xi + \\zeta)^2/8}}{\\sigma^{\\nu_2} \\Gamma(\\nu_2) \n",
    "(e^{-\\xi^2/4} D_{-\\nu_2}(\\xi) - e^{-\\zeta^2/4} D_{-\\nu_2}(\\zeta))\n",
    "- R \\Big( \\frac{R}{2}\\Big)^{1/p} e^{-(\\xi + \\zeta)^2/8}}\n",
    "$$"
   ]
  },
  {
   "cell_type": "markdown",
   "metadata": {},
   "source": [
    "$$\n",
    "L_d(z, E, \\sigma_E) = \\frac{1}{\\alpha^{1/p} p (2-p)} \n",
    "\\frac{\n",
    "(\\sigma^{\\nu_3} \\Gamma(\\nu_3) e^{-\\xi^2/4} D_{-\\nu_3}(\\xi) - \\sigma^{\\nu_3} \\Gamma(\\nu_3) e^{-\\zeta^2/4} D_{-\\nu_3}(\\zeta))\n",
    "- 2 R \\Big( \\frac{R}{2}\\Big)^{\\nu_3} e^{-(\\xi + \\zeta)^2/8}\n",
    "}\n",
    "{\n",
    "(\\sigma^{\\nu_2} \\Gamma(\\nu_2) e^{-\\xi^2/4} D_{-\\nu_2}(\\xi) - \\sigma^{\\nu_2} \\Gamma(\\nu_2) e^{-\\zeta^2/4} D_{-\\nu_2}(\\zeta))\n",
    "- R \\Big( \\frac{R}{2}\\Big)^{1/p} e^{-(\\xi + \\zeta)^2/8}}\n",
    "$$"
   ]
  },
  {
   "cell_type": "markdown",
   "metadata": {},
   "source": [
    "$$\n",
    "\\boxed{\n",
    "L_d(z, E, \\sigma_E) = \\frac{1}{\\alpha^{1/p} p (2-p)} \n",
    "\\frac{\n",
    "\\sqrt{2 \\pi} \\sigma (F(\\xi, \\sigma, \\nu_3) - F(\\zeta, \\sigma, \\nu_3))\n",
    "- 2 R \\Big( \\frac{R}{2}\\Big)^{\\nu_3} e^{-(\\xi + \\zeta)^2/8}\n",
    "}\n",
    "{\n",
    "\\sqrt{2 \\pi} \\sigma (F(\\xi, \\sigma, \\nu_2) - F(\\zeta, \\sigma, \\nu_2))\n",
    "- R \\Big( \\frac{R}{2}\\Big)^{1/p} e^{-(\\xi + \\zeta)^2/8}}\n",
    "}\n",
    "$$"
   ]
  },
  {
   "cell_type": "markdown",
   "metadata": {},
   "source": [
    "Assuming: $\\nu_1 = 1+1/p$ and knowing that $\\Gamma(1) = 1$ this can be rewritten into:\n",
    "\n",
    "$$\n",
    "L_t(z, E, \\sigma_E) = \\frac{1}{\\sigma R \\alpha^{1/p}} \n",
    "\\frac{\n",
    "\\sigma^{\\nu_1} \\Gamma(\\nu_1) \\tilde D_{\\nu_1}(\\xi, \\zeta) - R \\Big( \\frac{R}{2}\\Big)^{1/p} e^{-(\\xi + \\zeta)^2/8}\n",
    "}{\n",
    "\\Gamma(1) e^{-\\zeta^2 / 4} D_{-1}(\\zeta)\n",
    "}\n",
    "$$"
   ]
  },
  {
   "cell_type": "markdown",
   "metadata": {},
   "source": [
    "$$\n",
    "L_t(z, E, \\sigma_E) = \\frac{1}{\\sigma R \\alpha^{1/p}} \n",
    "\\frac{\n",
    "\\sigma^{\\nu_1} \\Gamma(\\nu_1) \n",
    "(e^{-\\xi^2/4} D_{-\\nu_1}(\\xi) - e^{-\\zeta^2/4} D_{-\\nu_1}(\\zeta))\n",
    "- R \\Big( \\frac{R}{2}\\Big)^{1/p} e^{-(\\xi + \\zeta)^2/8}\n",
    "}{\n",
    "\\sqrt{2 \\pi} \\frac{1}{\\sqrt{2 \\pi} \\sigma}\\sigma \\Gamma(1) e^{-\\zeta^2 / 4} D_{-1}(\\zeta)\n",
    "}\n",
    "$$"
   ]
  },
  {
   "cell_type": "markdown",
   "metadata": {},
   "source": [
    "$$\n",
    "\\boxed{\n",
    "L_t(z, E, \\sigma_E) = \\frac{1}{\\sigma R \\alpha^{1/p}} \n",
    "\\frac{\n",
    "\\sqrt{2 \\pi} \\sigma (F(\\xi, \\sigma, \\nu_1) - F(\\zeta, \\sigma, \\nu_1))\n",
    "- R \\Big( \\frac{R}{2}\\Big)^{1/p} e^{-(\\xi + \\zeta)^2/8}\n",
    "}{\n",
    "\\sqrt{2 \\pi} F(\\zeta, \\sigma, \\nu_1)\n",
    "}}\n",
    "$$"
   ]
  },
  {
   "cell_type": "code",
   "execution_count": null,
   "metadata": {},
   "outputs": [],
   "source": []
  }
 ],
 "metadata": {
  "kernelspec": {
   "display_name": "Python 3",
   "language": "python",
   "name": "python3"
  },
  "language_info": {
   "codemirror_mode": {
    "name": "ipython",
    "version": 3
   },
   "file_extension": ".py",
   "mimetype": "text/x-python",
   "name": "python",
   "nbconvert_exporter": "python",
   "pygments_lexer": "ipython3",
   "version": "3.6.7"
  }
 },
 "nbformat": 4,
 "nbformat_minor": 2
}
