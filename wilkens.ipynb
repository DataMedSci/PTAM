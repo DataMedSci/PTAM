{
 "cells": [
  {
   "cell_type": "markdown",
   "metadata": {
    "collapsed": true
   },
   "source": [
    "# Wilkens LET model\n",
    "Wilkens [1] described analytical model for LET calculation. The model is able to predict dose- and track-averaged values in the pencil proton beamlets. The calculations are limited to center-of-axis values and to liquid water.\n",
    "\n",
    "The model is based on the Bortfeld analytical approximation of proton stopping power in water:\n",
    "\n",
    "$$\n",
    "\\tilde S(r)  = \\frac{r^{1/p - 1}}{p \\alpha^{1/p}}\n",
    "$$\n",
    "\n",
    "where $r$ is the residual range ($R_0-z$).\n",
    "\n",
    "Bragg-Kleeman rule which relates range of protons with its initial kinetic energy employs the same constants $p$ and $\\alpha$:\n",
    "\n",
    "$$\n",
    "R_0(E) = \\alpha E^p\n",
    "$$\n",
    "\n",
    "Another assumption is energy distribution of proton beamlet follows gaussian distribution at every point of the beam. Nuclear reactions are neglected in this model.\n",
    "\n",
    "The model provides $LET$ as a function of: \n",
    "  - $z$ - depth in water (in cm)\n",
    "  - $E$ - kinetic energy of proton entering water target (in MeV)\n",
    "  - $\\sigma_E$ - Gaussian energy spread (in MeV)\n",
    "\n",
    "\n",
    "For the reference, see: \n",
    "\n",
    "[1] Wilkens JJ, Oelfke U. \"Analytical linear energy transfer calculations for proton therapy\" Med Phys. 2003 May;30(5):806-15. (DOI: 10.1118/1.1567852)"
   ]
  },
  {
   "cell_type": "markdown",
   "metadata": {},
   "source": [
    "## Energy, range and stopping power"
   ]
  },
  {
   "cell_type": "code",
   "execution_count": 1,
   "metadata": {
    "collapsed": true
   },
   "outputs": [],
   "source": [
    "# first some necessary python imports\n",
    "import numpy as np\n",
    "import mpmath as mp # its part of sympy, offers high-precition floating-point arithmetic\n",
    "import matplotlib \n",
    "%matplotlib inline\n",
    "import matplotlib.pyplot as plt"
   ]
  },
  {
   "cell_type": "code",
   "execution_count": 2,
   "metadata": {},
   "outputs": [],
   "source": [
    "class ERSCalc(object):\n",
    "    \"\"\"A 'calculator' class for stopping power and range of protons\"\"\"\n",
    "    alpha_cm_MeV = 0.0022\n",
    "    p = 1.77\n",
    "    \n",
    "    @classmethod\n",
    "    def range_cm(cls, energy_MeV):\n",
    "        \"\"\"\n",
    "        Bragg-Kleeman rule for energy-range relationship\n",
    "        Equation (8) in [1]\n",
    "        \"\"\"\n",
    "        return cls.alpha_cm_MeV * energy_MeV**cls.p\n",
    "    \n",
    "    @classmethod\n",
    "    def stop_pow_MeV_cm(cls, resid_range_cm):\n",
    "        \"\"\"Bortfeld approximation for stopping power of protons\"\"\"\n",
    "        return (resid_range_cm**(1.0/cls.p - 1.0)) / (cls.p * cls.alpha_cm_MeV**(1.0/cls.p))"
   ]
  },
  {
   "cell_type": "code",
   "execution_count": 3,
   "metadata": {},
   "outputs": [
    {
     "name": "stdout",
     "output_type": "stream",
     "text": [
      "Range of protons with energy 70.0 MeV is 4.06 cm\n",
      "Stopping power at energy 70.0 MeV and depth 2.00 cm is 13.1 MeV/cm\n"
     ]
    }
   ],
   "source": [
    "# take as example some interesting proton beam energy\n",
    "E_MeV = 70.0\n",
    "# let's calculate range\n",
    "range_cm = ERSCalc.range_cm( E_MeV )\n",
    "# then at some specific depth lets obtain residual range\n",
    "z_cm = 2.0\n",
    "res_range_cm = range_cm - z_cm\n",
    "stop_power_MeV_cm = ERSCalc.stop_pow_MeV_cm( res_range_cm )\n",
    "\n",
    "# finally the printouts\n",
    "print(\"Range of protons with energy {:3.1f} MeV is {:3.3} cm\".format(E_MeV, range_cm))\n",
    "print(\"Stopping power at energy {:3.1f} MeV and depth {:3.2f} cm is {:3.3} MeV/cm\".format(E_MeV, z_cm, stop_power_MeV_cm))"
   ]
  },
  {
   "cell_type": "code",
   "execution_count": 4,
   "metadata": {},
   "outputs": [
    {
     "data": {
      "text/plain": [
       "[<matplotlib.lines.Line2D at 0x7f23ef709860>]"
      ]
     },
     "execution_count": 4,
     "metadata": {},
     "output_type": "execute_result"
    },
    {
     "data": {
      "image/png": "[encoded data removed]",
      "text/plain": [
       "<matplotlib.figure.Figure at 0x7f23efa342e8>"
      ]
     },
     "metadata": {},
     "output_type": "display_data"
    }
   ],
   "source": [
    "# some plots of range\n",
    "E_MeV = np.linspace(start=60, stop=250, num=100)\n",
    "range_cm = ERSCalc.range_cm( E_MeV )\n",
    "plt.xlabel(\"Energy [MeV]\")\n",
    "plt.ylabel(\"Range [cm]\")\n",
    "plt.plot(E_MeV,range_cm)"
   ]
  },
  {
   "cell_type": "code",
   "execution_count": 5,
   "metadata": {},
   "outputs": [
    {
     "data": {
      "text/plain": [
       "[<matplotlib.lines.Line2D at 0x7f23ef675908>]"
      ]
     },
     "execution_count": 5,
     "metadata": {},
     "output_type": "execute_result"
    },
    {
     "data": {
      "image/png": "[encoded data removed]",
      "text/plain": [
       "<matplotlib.figure.Figure at 0x7f23ef7470b8>"
      ]
     },
     "metadata": {},
     "output_type": "display_data"
    }
   ],
   "source": [
    "# some plots of stopping power\n",
    "stop_power_MeV_cm = ERSCalc.stop_pow_MeV_cm( range_cm )\n",
    "plt.xlabel(\"Energy [MeV]\")\n",
    "plt.ylabel(\"Stopping power [MeV/cm]\")\n",
    "plt.plot(E_MeV,stop_power_MeV_cm)"
   ]
  },
  {
   "cell_type": "markdown",
   "metadata": {},
   "source": [
    "## Wilkens LET model\n",
    "\n",
    "Wilkens LET model is based on following mathematical formalism. Dose averaged LET $L_d$ is described as:\n",
    "\n",
    "$$\n",
    "L_d(z) = \\frac{\\langle S^2\\rangle_z}{\\langle S\\rangle_z}\n",
    "$$\n",
    "\n",
    "where $\\langle S \\rangle$ denotes stopping power averaged over an spectrum of protons with different residual range $r$. Following the formulas (A14) and (A12) from [1] we get:\n",
    "\n",
    "\n",
    "$$\n",
    "\\langle S\\rangle_z = \\frac{\\Phi_0}{\\sqrt{2 \\pi} \\sigma R \\alpha^{1/p}} \\Bigg[ \\sigma^{1 + 1/p} \\Gamma\\Big( 1 + \\frac{1}{p}\\Big) \\tilde D_{1+1/p}(\\xi, \\zeta) - R \\Big( \\frac{R}{2}\\Big)^{1/p} e^{-(\\xi + \\zeta)^2/8} \\Bigg]\n",
    "$$\n",
    "\n",
    "$$\n",
    "\\langle S^2\\rangle_z = \\frac{\\Phi_0}{\\sqrt{2 \\pi} \\sigma R \\alpha^{2/p} p (2-p)} \\Bigg[ \\sigma^{2/p} \\Gamma\\Big( \\frac{2}{p}\\Big) \\tilde D_{2/p}(\\xi, \\zeta) - 2 R \\Big( \\frac{R}{2}\\Big)^{2/p} e^{-(\\xi + \\zeta)^2/8} \\Bigg]\n",
    "$$\n",
    "\n",
    "after simplifying we obtain:\n",
    "\n",
    "$$\n",
    "L_d(z, E, \\sigma_E) = \\frac{1}{\\alpha^{1/p} p (2-p)} \\frac{\\sigma^{2/p} \\Gamma\\Big( \\frac{2}{p}\\Big) \\tilde D_{2/p}(\\xi, \\zeta) - 2 R \\Big( \\frac{R}{2}\\Big)^{2/p} e^{-(\\xi + \\zeta)^2/8}}{\\sigma^{1 + 1/p} \\Gamma\\Big( 1 + \\frac{1}{p}\\Big) \\tilde D_{1+1/p}(\\xi, \\zeta) - R \\Big( \\frac{R}{2}\\Big)^{1/p} e^{-(\\xi + \\zeta)^2/8}}\n",
    "$$\n",
    "\n",
    "In this formula we have following variables:\n",
    " - $\\alpha = 0.0022 \\ \\textrm{cm MeV}^{-p}$ \n",
    " - $p = 1.77$\n",
    " - $R = 2 \\mu m$ - regularization factor\n",
    " - $\\sigma = \\sqrt{\\sigma_{\\textrm{mono}}^2 + \\sigma_r^2}$ - describes Gaussian spread of range (in cm)\n",
    " - $\\sigma_{\\textrm{mono}} = 0.012 R_0^{0.935}$ - accounts for range straggling of monoenergetic protons (in cm)\n",
    " - $\\sigma_r = \\sigma_E \\alpha p E^{p-1}$ - accounts for initial energy spread translated into range spread (in cm)\n",
    " - $R_0 = \\alpha E^p$ - range of protons with kinetic energy $E$ (in cm)\n",
    " - $\\zeta = (z - R_0) / \\sigma$ - helper variable\n",
    " - $\\xi = (z - R_0 - R) / \\sigma$ - helper variable\n",
    " - $\\Gamma$ - gamma function\n",
    " - $\\tilde D_\\nu(x,y) = e^{-x^2/4} D_{-\\nu}(x) - e^{-y^2/4} D_{-\\nu}(y)$ - helper function\n",
    " - $D_\\nu$ - parabolic cylinder function"
   ]
  },
  {
   "cell_type": "code",
   "execution_count": 6,
   "metadata": {
    "collapsed": true
   },
   "outputs": [],
   "source": [
    "class WilkensLET(object):\n",
    "    R_cm = 2e-4 # 2 um regulatisation\n",
    "    \n",
    "    \n",
    "    @staticmethod\n",
    "    def parabolic_integral(nu, t):\n",
    "        \"\"\"\n",
    "        evaluates precisely e^(-x^2/4)*D_(-nu)(x)\n",
    "        \"\"\"\n",
    "        return np.array([float(mp.exp(-(v**2)/4.0)*mp.pcfd(-nu,v)) for v in t])\n",
    "    \n",
    "    @staticmethod\n",
    "    def exponent_square(x, y):\n",
    "        \"\"\"\n",
    "        evaluates precisely e^(-(x+y)^2/8)\n",
    "        \"\"\"\n",
    "        return np.array([float(mp.exp(-((xn + yn)**2)/8.0)) for xn, yn in zip(x,y)])\n",
    "    \n",
    "    @classmethod\n",
    "    def d_tilde(cls, nu, xi, zeta):\n",
    "        \"\"\"helper function, equation (10) in [1]\"\"\"\n",
    "        part1 = cls.parabolic_integral(nu, xi)\n",
    "        part2 = cls.parabolic_integral(nu, zeta)\n",
    "        return part1 - part2\n",
    "        \n",
    "    \n",
    "    @classmethod\n",
    "    def let_d_MeV_cm(cls, energy_MeV, sigma_energy_MeV, z_cm):\n",
    "        \"\"\"TODO\n",
    "        \"\"\"\n",
    "        # range and residual range\n",
    "        range_cm = ERSCalc.range_cm(energy_MeV)\n",
    "        res_range_cm = range_cm - z_cm\n",
    "        \n",
    "        # range straggling of monoenergetical protons, see Appendix [1]\n",
    "        sigma_mono_cm = 0.012 * range_cm**0.935\n",
    "        \n",
    "        # range equivalent of energy straggline, equation (A2) in [1]\n",
    "        sigma_r_cm = sigma_energy_MeV\n",
    "        sigma_r_cm *= ERSCalc.alpha_cm_MeV\n",
    "        sigma_r_cm *= ERSCalc.p \n",
    "        sigma_r_cm *= (energy_MeV**(ERSCalc.p-1.0))\n",
    "                \n",
    "        # total sigma, equation (A3) in [1]\n",
    "        sigma_cm = (sigma_mono_cm**2 + sigma_r_cm**2)**0.5\n",
    "\n",
    "        # zeta variable introduced for equation (A8) in [1]\n",
    "        zeta = (z_cm - range_cm) / sigma_cm\n",
    "        \n",
    "        # xi variable introduced for equation (A11) in [1]\n",
    "        xi = (z_cm - range_cm - cls.R_cm) / sigma_cm\n",
    "\n",
    "        # main part of <S>_z as in quation (10) or (A12) in [1]\n",
    "        q = 1.0+1.0/ERSCalc.p        \n",
    "        mean_S_z_part = (sigma_cm**q) * float(mp.gamma(q)) * cls.d_tilde(q, xi, zeta)\n",
    "        mean_S_z_part -= cls.R_cm * ((0.5 * cls.R_cm)**(1.0/ERSCalc.p)) * cls.exponent_square(zeta, xi)\n",
    "        \n",
    "        # main part of <S2>_z as in quation (10) or (A14) in [1]\n",
    "        r = 2.0/ERSCalc.p\n",
    "        mean_S2_z_part = (sigma_cm**r) * float(mp.gamma(r)) * cls.d_tilde(r, xi, zeta)\n",
    "        mean_S2_z_part -= 2.0 * ((0.5 * cls.R_cm)**r) * cls.exponent_square(zeta, xi)\n",
    "        \n",
    "        # factor part of <S2>_z divided by <S>_z\n",
    "        const_factor_MeV_cm = 1.0 / (ERSCalc.p * (2.0 - ERSCalc.p) * ERSCalc.alpha_cm_MeV ** (1.0/ERSCalc.p))\n",
    "        \n",
    "        # result\n",
    "        result = const_factor_MeV_cm * mean_S2_z_part / mean_S_z_part\n",
    "        \n",
    "        # filling nonsense values (outside model domain) with np.nan\n",
    "        result[res_range_cm < 0] = np.nan        \n",
    "        \n",
    "        return result"
   ]
  },
  {
   "cell_type": "code",
   "execution_count": 7,
   "metadata": {},
   "outputs": [
    {
     "data": {
      "text/plain": [
       "[<matplotlib.lines.Line2D at 0x7f23ef5424e0>]"
      ]
     },
     "execution_count": 7,
     "metadata": {},
     "output_type": "execute_result"
    },
    {
     "data": {
      "image/png": "[encoded data removed]",
      "text/plain": [
       "<matplotlib.figure.Figure at 0x7f23ef6b53c8>"
      ]
     },
     "metadata": {},
     "output_type": "display_data"
    }
   ],
   "source": [
    "E_MeV = 160\n",
    "sigma_E_MeV = 0.0\n",
    "z_cm = np.linspace(start=0.0, stop=20.0, num=100)\n",
    "let_MeV_cm = WilkensLET.let_d_MeV_cm(E_MeV, sigma_E_MeV, z_cm)\n",
    "let_keV_um = 0.1 * let_MeV_cm\n",
    "\n",
    "plt.xlabel(\"z [cm]\")\n",
    "plt.ylabel(\"LETd [keV/um]\")\n",
    "plt.plot(z_cm, let_keV_um)"
   ]
  },
  {
   "cell_type": "code",
   "execution_count": 8,
   "metadata": {
    "collapsed": true
   },
   "outputs": [],
   "source": [
    "# note !!\n",
    "\n",
    "# method parabolic_integral in WilkensLET relies on mpmath package, \n",
    "# instead of scipy to calculate parabolic cylinder functions,\n",
    "# \n",
    "# scipy could be used, but it fails to calculate exp*Dv product\n",
    "# when exponent is very small and parabolic cylinder function very large\n",
    "# mpmath calculation are exact, i.e. \n",
    "#\n",
    "# >>> x = -200\n",
    "# >>> a = mp.exp(-(x**2)/4)\n",
    "# >>> b = mp.pcfd(-1/1.77, x)\n",
    "# >>> a\n",
    "# mpf('1.1354838653147362e-4343')\n",
    "# >>> b\n",
    "# mpf('1.3980110163795251e+4342')\n",
    "# >>> a*b\n",
    "# mpf('0.15874189526312063')\n",
    "#\n",
    "#  numpy+scipy fails to calculate due to lack of numerical precision\n",
    "#\n",
    "# >>> x = -200\n",
    "# >>> a = np.exp(-(x**2)/4)\n",
    "# >>> b = sp.special.pbdv(-1/1.77, x)[0]\n",
    "# >>> a\n",
    "# 0.0\n",
    "# >>> b\n",
    "# inf\n",
    "# >>> a*b\n",
    "# __main__:1: RuntimeWarning: invalid value encountered in double_scalars\n",
    "# nan\n",
    "#"
   ]
  },
  {
   "cell_type": "code",
   "execution_count": null,
   "metadata": {
    "collapsed": true
   },
   "outputs": [],
   "source": []
  }
 ],
 "metadata": {
  "kernelspec": {
   "display_name": "Python 3",
   "language": "python",
   "name": "python3"
  },
  "language_info": {
   "codemirror_mode": {
    "name": "ipython",
    "version": 3
   },
   "file_extension": ".py",
   "mimetype": "text/x-python",
   "name": "python",
   "nbconvert_exporter": "python",
   "pygments_lexer": "ipython3",
   "version": "3.6.2"
  }
 },
 "nbformat": 4,
 "nbformat_minor": 1
}
