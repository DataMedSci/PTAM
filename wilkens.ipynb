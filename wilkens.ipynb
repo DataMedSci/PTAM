{
 "cells": [
  {
   "cell_type": "markdown",
   "metadata": {
    "collapsed": true
   },
   "source": [
    "# Wilkens LET model\n",
    "Wilkens [1] described analytical model for LET calculation. The model is able to predict dose- and track-averaged values in the pencil proton beamlets. The calculations are limited to center-of-axis values and to liquid water.\n",
    "\n",
    "The model is based on the Bortfeld analytical approximation of proton stopping power in water:\n",
    "\n",
    "$$\n",
    "\\tilde S(r)  = \\frac{r^{1/p - 1}}{p \\alpha^{1/p}}\n",
    "$$\n",
    "\n",
    "where $r$ is the residual range ($R_0-z$).\n",
    "\n",
    "Bragg-Kleeman rule which relates range of protons with its initial kinetic energy employs the same constants $p$ and $\\alpha$:\n",
    "\n",
    "$$\n",
    "R_0(E) = \\alpha E^p\n",
    "$$\n",
    "\n",
    "Another assumption is energy distribution of proton beamlet follows gaussian distribution at every point of the beam. Nuclear reactions are neglected in this model.\n",
    "\n",
    "For the reference, see: \n",
    "\n",
    "[1] Wilkens JJ, Oelfke U. \"Analytical linear energy transfer calculations for proton therapy\" Med Phys. 2003 May;30(5):806-15. (DOI: 10.1118/1.1567852)"
   ]
  },
  {
   "cell_type": "markdown",
   "metadata": {},
   "source": [
    "## Energy, range and stopping power"
   ]
  },
  {
   "cell_type": "code",
   "execution_count": 1,
   "metadata": {
    "collapsed": true
   },
   "outputs": [],
   "source": [
    "# first some necessary python imports\n",
    "import scipy as sp\n",
    "import scipy.special\n",
    "import mpmath as mp # its part of sympy, offers high-precition floating-point arithmetic\n",
    "import numpy as np\n",
    "import matplotlib \n",
    "%matplotlib inline\n",
    "import matplotlib.pyplot as plt"
   ]
  },
  {
   "cell_type": "code",
   "execution_count": 2,
   "metadata": {},
   "outputs": [
    {
     "name": "stdout",
     "output_type": "stream",
     "text": [
      "Range of protons with energy 60.0 MeV is 3.09 cm\n",
      "Stopping power at energy 60.0 MeV and depth 2.00 cm is 17.3 MeV/cm\n"
     ]
    }
   ],
   "source": [
    "class ERSCalc(object):\n",
    "    \"\"\"A 'calculator' class for stopping power and range of protons\"\"\"\n",
    "    alpha_cm_MeV = 0.0022\n",
    "    p = 1.77\n",
    "    \n",
    "    @classmethod\n",
    "    def range_cm(cls, energy_MeV):\n",
    "        \"\"\"\n",
    "        Bragg-Kleeman rule for energy-range relationship\n",
    "        Equation (8) in [1]\n",
    "        \"\"\"\n",
    "        return cls.alpha_cm_MeV * energy_MeV** cls.p\n",
    "    \n",
    "    @classmethod\n",
    "    def stop_pow_MeV_cm(cls, resid_range_cm):\n",
    "        \"\"\"Bortfeld approximation for stopping power of protons\"\"\"\n",
    "        return (resid_range_cm**(1.0/cls.p - 1.0)) / (cls.p * cls.alpha_cm_MeV**(1.0/cls.p))\n",
    "\n",
    "# take as example some interesting proton beam energy\n",
    "E_MeV = 60.0\n",
    "# let's calculate range\n",
    "range_cm = ERSCalc.range_cm( E_MeV )\n",
    "# then at some specific depth lets obtain residual range\n",
    "z_cm = 2.0\n",
    "res_range_cm = range_cm - z_cm\n",
    "stop_power_MeV_cm = ERSCalc.stop_pow_MeV_cm( res_range_cm )\n",
    "\n",
    "# finally the printouts\n",
    "print(\"Range of protons with energy {:3.1f} MeV is {:3.3} cm\".format(E_MeV, range_cm))\n",
    "print(\"Stopping power at energy {:3.1f} MeV and depth {:3.2f} cm is {:3.3} MeV/cm\".format(E_MeV, z_cm, stop_power_MeV_cm))"
   ]
  },
  {
   "cell_type": "code",
   "execution_count": 3,
   "metadata": {},
   "outputs": [
    {
     "data": {
      "text/plain": [
       "<matplotlib.text.Text at 0x7f9772d045f8>"
      ]
     },
     "execution_count": 3,
     "metadata": {},
     "output_type": "execute_result"
    },
    {
     "data": {
      "image/png": "[encoded data removed]",
      "text/plain": [
       "<matplotlib.figure.Figure at 0x7f9772d46b38>"
      ]
     },
     "metadata": {},
     "output_type": "display_data"
    }
   ],
   "source": [
    "# some plots of range\n",
    "E_MeV = np.linspace(start=60, stop=250, num=100)\n",
    "range_cm = ERSCalc.range_cm( E_MeV )\n",
    "plt.plot(E_MeV,range_cm)\n",
    "plt.xlabel(\"Energy [MeV]\")\n",
    "plt.ylabel(\"Range [cm]\")"
   ]
  },
  {
   "cell_type": "code",
   "execution_count": 4,
   "metadata": {},
   "outputs": [
    {
     "data": {
      "text/plain": [
       "<matplotlib.text.Text at 0x7f9772c78710>"
      ]
     },
     "execution_count": 4,
     "metadata": {},
     "output_type": "execute_result"
    },
    {
     "data": {
      "image/png": "[encoded data removed]",
      "text/plain": [
       "<matplotlib.figure.Figure at 0x7f9772c986d8>"
      ]
     },
     "metadata": {},
     "output_type": "display_data"
    }
   ],
   "source": [
    "# some plots of stopping power\n",
    "stop_power_MeV_cm = ERSCalc.stop_pow_MeV_cm( range_cm )\n",
    "plt.plot(E_MeV,stop_power_MeV_cm)\n",
    "plt.xlabel(\"Energy [MeV]\")\n",
    "plt.ylabel(\"Stopping power [MeV/cm]\")"
   ]
  },
  {
   "cell_type": "markdown",
   "metadata": {},
   "source": [
    "## Wilkens LET model"
   ]
  },
  {
   "cell_type": "code",
   "execution_count": 5,
   "metadata": {
    "collapsed": true
   },
   "outputs": [],
   "source": [
    "class WilkensLET(object):\n",
    "    R_cm = 2e-4 # 2 um regulatisation\n",
    "    \n",
    "    \n",
    "    @staticmethod\n",
    "    def parabolic_integral(nu, t):\n",
    "        return np.array([float(mp.exp(-v**2/4.0)*mp.pcfd(-nu,v)) for v in t])\n",
    "    \n",
    "    @classmethod\n",
    "    def d_tilde(cls, nu, xi, zeta):\n",
    "        \"\"\"helper function, equation (10) in [1]\"\"\"\n",
    "        part1 = cls.parabolic_integral(nu, xi)\n",
    "        part2 = cls.parabolic_integral(nu, zeta)\n",
    "        return part1 - part2\n",
    "        \n",
    "    \n",
    "    @classmethod\n",
    "    def let_d_MeV_cm(cls, energy_MeV, sigma_energy_MeV, z_cm):\n",
    "        \"\"\"TODO\n",
    "        \"\"\"\n",
    "        # range and residual range\n",
    "        range_cm = ERSCalc.range_cm(energy_MeV)\n",
    "        #print(\"range_cm\", range_cm, \"cm\")\n",
    "        res_range_cm = range_cm - z_cm\n",
    "        \n",
    "        # range straggling of monoenergetical protons, see Appendix [1]\n",
    "        sigma_mono_cm = 0.01 * range_cm**0.935\n",
    "        #print(\"sigma_mono_cm\", sigma_mono_cm, \"cm\")\n",
    "        \n",
    "        # range equivalent of energy straggline, equation (A2) in [1]\n",
    "        sigma_r_cm = sigma_energy_MeV * (ERSCalc.alpha_cm_MeV**(1.0/ERSCalc.p)) * ERSCalc.p * (range_cm**(1.0-1.0/ERSCalc.p))\n",
    "        #print(\"sigma_r_cm\", sigma_r_cm, \"cm\")\n",
    "                \n",
    "        # total sigma, equation (A3) in [1]\n",
    "        sigma_cm = (sigma_mono_cm**2 + sigma_r_cm**2)**0.5\n",
    "        #print(\"sigma_cm\", sigma_cm, \"cm\")\n",
    "\n",
    "        # zeta variable introduced for equation (A8) in [1]\n",
    "        zeta = (z_cm - range_cm) / sigma_cm\n",
    "        #print(\"zeta\", zeta)\n",
    "        \n",
    "        # xi variable introduced for equation (A11) in [1]\n",
    "        xi = (z_cm - range_cm - cls.R_cm) / sigma_cm\n",
    "        #print(\"xi\", xi)\n",
    "\n",
    "        # main part of <S>_z as in quation (10) or (A12) in [1]\n",
    "        q = 1.0+1.0/ERSCalc.p        \n",
    "        mean_S_z_part = (sigma_cm**q) * sp.special.gamma(q) * cls.d_tilde(q, xi, zeta)\n",
    "        mean_S_z_part -= cls.R_cm * ((0.5 * cls.R_cm)**(1.0/ERSCalc.p)) * np.exp(-(zeta**2 + xi**2)/8.0)\n",
    "        \n",
    "        # main part of <S2>_z as in quation (10) or (A14) in [1]\n",
    "        r = 2.0/ERSCalc.p\n",
    "        mean_S2_z_part = (sigma_cm**r) * sp.special.gamma(r) * cls.d_tilde(r, xi, zeta)\n",
    "        mean_S2_z_part -= 2.0 * ((0.5 * cls.R_cm)**r) * np.exp(-(zeta**2 + xi**2)/8.0)\n",
    "        \n",
    "        # factor part of <S2>_z divided by <S>_z\n",
    "        const_factor_MeV_cm = 1.0 / (ERSCalc.p * (2.0 - ERSCalc.p) * ERSCalc.alpha_cm_MeV ** (1.0/ERSCalc.p))\n",
    "        \n",
    "        # result\n",
    "        result = const_factor_MeV_cm * mean_S2_z_part / mean_S_z_part\n",
    "        \n",
    "        # filling nonsense values (outside model domain) with np.nan\n",
    "        result[res_range_cm < 0] = np.nan\n",
    "        \n",
    "        return result"
   ]
  },
  {
   "cell_type": "code",
   "execution_count": 6,
   "metadata": {},
   "outputs": [
    {
     "data": {
      "text/plain": [
       "<matplotlib.text.Text at 0x7f9772c68f98>"
      ]
     },
     "execution_count": 6,
     "metadata": {},
     "output_type": "execute_result"
    },
    {
     "data": {
      "image/png": "[encoded data removed]",
      "text/plain": [
       "<matplotlib.figure.Figure at 0x7f9772bdd8d0>"
      ]
     },
     "metadata": {},
     "output_type": "display_data"
    }
   ],
   "source": [
    "E_MeV = 60\n",
    "sigma_E_MeV = 0.5\n",
    "z_cm = np.linspace(start=0, stop=3, num=1000)\n",
    "let_MeV_cm = WilkensLET.let_d_MeV_cm(E_MeV, sigma_E_MeV, z_cm)\n",
    "let_keV_um = 0.1 * let_MeV_cm\n",
    "\n",
    "plt.plot(z_cm, let_keV_um)\n",
    "plt.xlabel(\"z [cm]\")\n",
    "plt.ylabel(\"LETd [keV/um]\")"
   ]
  },
  {
   "cell_type": "code",
   "execution_count": null,
   "metadata": {
    "collapsed": true
   },
   "outputs": [],
   "source": []
  }
 ],
 "metadata": {
  "kernelspec": {
   "display_name": "Python 3",
   "language": "python",
   "name": "python3"
  },
  "language_info": {
   "codemirror_mode": {
    "name": "ipython",
    "version": 3
   },
   "file_extension": ".py",
   "mimetype": "text/x-python",
   "name": "python",
   "nbconvert_exporter": "python",
   "pygments_lexer": "ipython3",
   "version": "3.6.2"
  }
 },
 "nbformat": 4,
 "nbformat_minor": 1
}
